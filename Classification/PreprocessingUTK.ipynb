{
 "cells": [
  {
   "cell_type": "markdown",
   "metadata": {},
   "source": [
    "# Image Preprocessing\n",
    "This was conducted locally to save resources on google colab."
   ]
  },
  {
   "cell_type": "code",
   "execution_count": 1,
   "metadata": {},
   "outputs": [],
   "source": [
    "import pandas as pd\n",
    "import numpy as np\n",
    "import os\n",
    "import matplotlib.pyplot as plt\n",
    "import warnings\n",
    "import seaborn as sns\n",
    "from tqdm.notebook import tqdm\n",
    "warnings.filterwarnings('ignore')\n",
    "%matplotlib inline\n"
   ]
  },
  {
   "cell_type": "code",
   "execution_count": null,
   "metadata": {},
   "outputs": [
    {
     "name": "stderr",
     "output_type": "stream",
     "text": [
      "100%|██████████| 25800/25800 [02:29<00:00, 172.30it/s]\n"
     ]
    },
    {
     "name": "stdout",
     "output_type": "stream",
     "text": [
      "Preprocessing complete. Images and labels saved.\n"
     ]
    }
   ],
   "source": [
    "import os\n",
    "import numpy as np\n",
    "import pandas as pd\n",
    "from tqdm import tqdm\n",
    "from PIL import Image\n",
    "\n",
    "# Define paths\n",
    "input_folder = \"../../Datasets/UTKFace/UTKFace\"\n",
    "output_folder = \"../../Datasets/UTKFace/processed2classes\"\n",
    "os.makedirs(output_folder, exist_ok=True)\n",
    "\n",
    "# Initialize lists to store image paths and labels\n",
    "processed_image_paths = []\n",
    "age_labels = []\n",
    "gender_labels = []\n",
    "\n",
    "# Define bins and labels for age categorization\n",
    "bins = [21, 50, 117]  \n",
    "labels_age = [0, 1] \n",
    "\n",
    "# Preprocess each image and extract labels\n",
    "for filename in tqdm(os.listdir(input_folder)):\n",
    "    if filename.endswith(('.jpg', '.jpeg', '.png')):\n",
    "        # Get image path and labels from filename\n",
    "        image_path = os.path.join(input_folder, filename)\n",
    "        temp = filename.split('_')\n",
    "        age = int(temp[0])\n",
    "        gender = int(temp[1])\n",
    "\n",
    "        # Load and preprocess the image\n",
    "        img = Image.open(image_path).convert('L')  # Convert to grayscale\n",
    "        img = img.resize((128, 128))  # Resize image to 128x128\n",
    "        img_array = np.array(img).astype('float32') / 255.0  # Normalize pixel values\n",
    "        img_array = img_array.reshape(128, 128, 1)  # Add channel dimension\n",
    "\n",
    "        # Save processed image as .npy file\n",
    "        processed_filename = f\"{os.path.splitext(filename)[0]}.npy\"\n",
    "        processed_image_path = os.path.join(output_folder, processed_filename)\n",
    "        np.save(processed_image_path, img_array)\n",
    "\n",
    "        # Append paths and labels to lists\n",
    "        processed_image_paths.append(processed_image_path)\n",
    "        age_labels.append(age)\n",
    "        gender_labels.append(gender)\n",
    "\n",
    "# Create a DataFrame with image paths and labels\n",
    "df = pd.DataFrame({\n",
    "    'image': processed_image_paths,\n",
    "    'age': age_labels,\n",
    "    'gender': gender_labels\n",
    "})\n",
    "\n",
    "df = df[(df['age'] >= 21) & (df['age'] <= 117)]\n",
    "\n",
    "# Categorize age labels into bins\n",
    "df['age_labels'] = pd.cut(df['age'], bins=bins, labels=labels_age, right=False)\n",
    "\n",
    "# Save the DataFrame as a CSV for easy loading in Colab\n",
    "df.to_csv(os.path.join(output_folder, \"processed_labels2classes.csv\"), index=False)\n",
    "\n",
    "print(\"Preprocessing complete. Images and labels saved.\")\n"
   ]
  },
  {
   "cell_type": "code",
   "execution_count": null,
   "metadata": {},
   "outputs": [
    {
     "name": "stdout",
     "output_type": "stream",
     "text": [
      "Files zipped successfully!\n"
     ]
    }
   ],
   "source": [
    "import os\n",
    "import zipfile\n",
    "\n",
    "# Define paths\n",
    "npy_folder = \"../../Datasets/UTKFace/processed2classes\"\n",
    "zip_file_path = \"../../Datasets/UTKFace/processed_images2classes.zip\"\n",
    "\n",
    "# Create a zip file\n",
    "with zipfile.ZipFile(zip_file_path, 'w') as zipf:\n",
    "    for root, dirs, files in os.walk(npy_folder):\n",
    "        for file in files:\n",
    "            if file.endswith('.npy'):\n",
    "                file_path = os.path.join(root, file)\n",
    "                zipf.write(file_path, os.path.relpath(file_path, npy_folder)) \n",
    "print(\"Files zipped successfully!\")\n"
   ]
  },
  {
   "cell_type": "code",
   "execution_count": null,
   "metadata": {},
   "outputs": [
    {
     "name": "stdout",
     "output_type": "stream",
     "text": [
      "Files unzipped successfully!\n"
     ]
    }
   ],
   "source": [
    "import zipfile\n",
    "import os\n",
    "import numpy as np\n",
    "import pandas as pd\n",
    "\n",
    "# Define paths\n",
    "zip_file_path = \"../../Datasets/UTKFace/processed_images2classes.zip\" \n",
    "unzip_folder = \"../../Datasets/UTKFace/processed_images2classes\"\n",
    "os.makedirs(unzip_folder, exist_ok=True)\n",
    "\n",
    "# Unzip the file\n",
    "with zipfile.ZipFile(zip_file_path, 'r') as zip_ref:\n",
    "    zip_ref.extractall(unzip_folder)\n",
    "\n",
    "print(\"Files unzipped successfully!\")\n"
   ]
  },
  {
   "cell_type": "code",
   "execution_count": 18,
   "metadata": {},
   "outputs": [
    {
     "name": "stdout",
     "output_type": "stream",
     "text": [
      "Data loaded successfully!\n"
     ]
    }
   ],
   "source": [
    "\n",
    "import pandas as pd\n",
    "import numpy as np\n",
    "import os\n",
    "\n",
    "df = pd.read_csv(\"../../Datasets/UTKFace/processed2classes/processed_labels2classes.csv\")\n",
    "\n",
    "# Load images and labels into numpy arrays\n",
    "X = np.array([np.load(os.path.join(unzip_folder, os.path.basename(img_path))) for img_path in df['image']])\n",
    "y_age = np.array(df['age_labels'])\n",
    "y_gender = np.array(df['gender'])\n",
    "\n",
    "print(\"Data loaded successfully!\")\n"
   ]
  },
  {
   "cell_type": "code",
   "execution_count": null,
   "metadata": {},
   "outputs": [
    {
     "name": "stdout",
     "output_type": "stream",
     "text": [
      "Training set shape: (13181, 128, 128, 1)\n",
      "Validation set shape: (2825, 128, 128, 1)\n",
      "Test set shape: (2825, 128, 128, 1)\n"
     ]
    }
   ],
   "source": [
    "from sklearn.model_selection import train_test_split\n",
    "\n",
    "# Define labels\n",
    "y_age = df['age_labels'].values  # Age labels\n",
    "y_gender = df['gender'].values  # Gender labels\n",
    "\n",
    "X_train, X_temp, y_age_train, y_age_temp, y_gender_train, y_gender_temp = train_test_split(X, y_age, y_gender, test_size=0.3, random_state=42)\n",
    "X_val, X_test, y_age_val, y_age_test, y_gender_val, y_gender_test = train_test_split(X_temp, y_age_temp, y_gender_temp, test_size=0.5, random_state=42)\n",
    "\n",
    "# Check the shapes of the splits to confirm\n",
    "print(\"Training set shape:\", X_train.shape)\n",
    "print(\"Validation set shape:\", X_val.shape)\n",
    "print(\"Test set shape:\", X_test.shape)\n"
   ]
  },
  {
   "cell_type": "code",
   "execution_count": 22,
   "metadata": {},
   "outputs": [
    {
     "data": {
      "text/html": [
       "<div>\n",
       "<style scoped>\n",
       "    .dataframe tbody tr th:only-of-type {\n",
       "        vertical-align: middle;\n",
       "    }\n",
       "\n",
       "    .dataframe tbody tr th {\n",
       "        vertical-align: top;\n",
       "    }\n",
       "\n",
       "    .dataframe thead th {\n",
       "        text-align: right;\n",
       "    }\n",
       "</style>\n",
       "<table border=\"1\" class=\"dataframe\">\n",
       "  <thead>\n",
       "    <tr style=\"text-align: right;\">\n",
       "      <th></th>\n",
       "      <th>image</th>\n",
       "      <th>age</th>\n",
       "      <th>gender</th>\n",
       "      <th>age_labels</th>\n",
       "    </tr>\n",
       "  </thead>\n",
       "  <tbody>\n",
       "    <tr>\n",
       "      <th>0</th>\n",
       "      <td>../../Datasets/UTKFace/processed2classes\\100_0...</td>\n",
       "      <td>100</td>\n",
       "      <td>0</td>\n",
       "      <td>1</td>\n",
       "    </tr>\n",
       "    <tr>\n",
       "      <th>1</th>\n",
       "      <td>../../Datasets/UTKFace/processed2classes\\100_0...</td>\n",
       "      <td>100</td>\n",
       "      <td>0</td>\n",
       "      <td>1</td>\n",
       "    </tr>\n",
       "    <tr>\n",
       "      <th>2</th>\n",
       "      <td>../../Datasets/UTKFace/processed2classes\\100_1...</td>\n",
       "      <td>100</td>\n",
       "      <td>1</td>\n",
       "      <td>1</td>\n",
       "    </tr>\n",
       "    <tr>\n",
       "      <th>3</th>\n",
       "      <td>../../Datasets/UTKFace/processed2classes\\100_1...</td>\n",
       "      <td>100</td>\n",
       "      <td>1</td>\n",
       "      <td>1</td>\n",
       "    </tr>\n",
       "    <tr>\n",
       "      <th>4</th>\n",
       "      <td>../../Datasets/UTKFace/processed2classes\\100_1...</td>\n",
       "      <td>100</td>\n",
       "      <td>1</td>\n",
       "      <td>1</td>\n",
       "    </tr>\n",
       "    <tr>\n",
       "      <th>...</th>\n",
       "      <td>...</td>\n",
       "      <td>...</td>\n",
       "      <td>...</td>\n",
       "      <td>...</td>\n",
       "    </tr>\n",
       "    <tr>\n",
       "      <th>18826</th>\n",
       "      <td>../../Datasets/UTKFace/processed2classes\\99_1_...</td>\n",
       "      <td>99</td>\n",
       "      <td>1</td>\n",
       "      <td>1</td>\n",
       "    </tr>\n",
       "    <tr>\n",
       "      <th>18827</th>\n",
       "      <td>../../Datasets/UTKFace/processed2classes\\99_1_...</td>\n",
       "      <td>99</td>\n",
       "      <td>1</td>\n",
       "      <td>1</td>\n",
       "    </tr>\n",
       "    <tr>\n",
       "      <th>18828</th>\n",
       "      <td>../../Datasets/UTKFace/processed2classes\\99_1_...</td>\n",
       "      <td>99</td>\n",
       "      <td>1</td>\n",
       "      <td>1</td>\n",
       "    </tr>\n",
       "    <tr>\n",
       "      <th>18829</th>\n",
       "      <td>../../Datasets/UTKFace/processed2classes\\99_1_...</td>\n",
       "      <td>99</td>\n",
       "      <td>1</td>\n",
       "      <td>1</td>\n",
       "    </tr>\n",
       "    <tr>\n",
       "      <th>18830</th>\n",
       "      <td>../../Datasets/UTKFace/processed2classes\\99_1_...</td>\n",
       "      <td>99</td>\n",
       "      <td>1</td>\n",
       "      <td>1</td>\n",
       "    </tr>\n",
       "  </tbody>\n",
       "</table>\n",
       "<p>18831 rows × 4 columns</p>\n",
       "</div>"
      ],
      "text/plain": [
       "                                                   image  age  gender  \\\n",
       "0      ../../Datasets/UTKFace/processed2classes\\100_0...  100       0   \n",
       "1      ../../Datasets/UTKFace/processed2classes\\100_0...  100       0   \n",
       "2      ../../Datasets/UTKFace/processed2classes\\100_1...  100       1   \n",
       "3      ../../Datasets/UTKFace/processed2classes\\100_1...  100       1   \n",
       "4      ../../Datasets/UTKFace/processed2classes\\100_1...  100       1   \n",
       "...                                                  ...  ...     ...   \n",
       "18826  ../../Datasets/UTKFace/processed2classes\\99_1_...   99       1   \n",
       "18827  ../../Datasets/UTKFace/processed2classes\\99_1_...   99       1   \n",
       "18828  ../../Datasets/UTKFace/processed2classes\\99_1_...   99       1   \n",
       "18829  ../../Datasets/UTKFace/processed2classes\\99_1_...   99       1   \n",
       "18830  ../../Datasets/UTKFace/processed2classes\\99_1_...   99       1   \n",
       "\n",
       "       age_labels  \n",
       "0               1  \n",
       "1               1  \n",
       "2               1  \n",
       "3               1  \n",
       "4               1  \n",
       "...           ...  \n",
       "18826           1  \n",
       "18827           1  \n",
       "18828           1  \n",
       "18829           1  \n",
       "18830           1  \n",
       "\n",
       "[18831 rows x 4 columns]"
      ]
     },
     "execution_count": 22,
     "metadata": {},
     "output_type": "execute_result"
    }
   ],
   "source": [
    "df"
   ]
  },
  {
   "cell_type": "code",
   "execution_count": null,
   "metadata": {},
   "outputs": [
    {
     "data": {
      "image/png": "[encoded data removed]",
      "text/plain": [
       "<Figure size 1200x500 with 2 Axes>"
      ]
     },
     "metadata": {},
     "output_type": "display_data"
    }
   ],
   "source": [
    "import matplotlib.pyplot as plt\n",
    "import pandas as pd\n",
    "\n",
    "def plot_distribution(df, bins=None, labels=None):\n",
    "\n",
    "    if bins and labels:\n",
    "        df['age_labels'] = pd.cut(df['age'], bins=bins, labels=labels, right=False)\n",
    "\n",
    "    plt.figure(figsize=(12, 5))\n",
    "\n",
    "    # Age distribution\n",
    "    plt.subplot(1, 2, 1)\n",
    "    df['age_labels'].value_counts(sort=False).plot(kind='bar', color='skyblue')\n",
    "    plt.title('Age Distribution')\n",
    "    plt.xlabel('Age Group')\n",
    "    plt.ylabel('Count')\n",
    "    plt.xticks(rotation=45)\n",
    "\n",
    "    # Gender distribution\n",
    "    plt.subplot(1, 2, 2)\n",
    "    df['gender'].value_counts().plot(kind='bar', color=('cyan', 'orange'))\n",
    "    plt.title('Gender Distribution')\n",
    "    plt.xlabel('Gender')\n",
    "    plt.ylabel('Count')\n",
    "    plt.xticks([0, 1], ['Male', 'Female'], rotation=0)\n",
    "\n",
    "    plt.tight_layout()\n",
    "    plt.show()\n",
    "\n",
    "\n",
    "\n",
    "bins = [21, 50, 117]  \n",
    "labels = [\"21-49\", \"50-116\"]  \n",
    "\n",
    "plot_distribution(df, bins=bins, labels=labels)\n"
   ]
  }
 ],
 "metadata": {
  "kernelspec": {
   "display_name": "edgeai2",
   "language": "python",
   "name": "python3"
  },
  "language_info": {
   "codemirror_mode": {
    "name": "ipython",
    "version": 3
   },
   "file_extension": ".py",
   "mimetype": "text/x-python",
   "name": "python",
   "nbconvert_exporter": "python",
   "pygments_lexer": "ipython3",
   "version": "3.11.10"
  }
 },
 "nbformat": 4,
 "nbformat_minor": 2
}
